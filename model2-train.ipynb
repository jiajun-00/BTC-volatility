{
 "cells": [
  {
   "cell_type": "code",
   "execution_count": 1,
   "metadata": {},
   "outputs": [],
   "source": [
    "import warnings\n",
    "warnings.simplefilter(action='ignore', category=FutureWarning)\n",
    "import pandas as pd\n",
    "import numpy as np\n",
    "import matplotlib.pyplot as plt\n",
    "from statsmodels.graphics.tsaplots import plot_acf\n",
    "from statsmodels.tsa.stattools import adfuller\n",
    "from statsmodels.stats.diagnostic import acorr_ljungbox\n",
    "import statistics\n",
    "#from function import *\n",
    "import statsmodels.api as sm\n",
    "from datetime import datetime, timedelta\n",
    "import time\n",
    "from btbase import *"
   ]
  },
  {
   "cell_type": "code",
   "execution_count": 2,
   "metadata": {},
   "outputs": [],
   "source": [
    "class train:\n",
    "    \n",
    "    # 初始化\n",
    "    def __init__(self):\n",
    "        self.dataframe = None\n",
    "        self.data_laundry = None\n",
    "        self.start_time = None\n",
    "        self.end_time = None\n",
    "    \n",
    "    # 通过平台api获取数据\n",
    "    def set_data(self, s_time, e_time, symbols='btc/usdt.spot.binance', fields=None, bar_type=\"1m\", offset=None, engine_info=None):\n",
    "        # 获取数据api\n",
    "        self.dataframe = get_crypto_price(s_time, e_time, symbols=symbol_, fields=None, bar_type=\"1m\", offset=None, engine_info=None)\n",
    "        # 把收益率加入到dataframe中\n",
    "        self.dataframe = self.dataframe.assign(return_close= self.dataframe['close'].pct_change() * 100)\n",
    "        # 获取数据的开始时间\n",
    "        self.start_time = self.dataframe['e_date'].iloc[0]\n",
    "        # 获取数据的结束时间\n",
    "        self.end_time = self.dataframe['e_date'].iloc[-1]\n",
    "    \n",
    "    # 通过dataframe文件获取数据\n",
    "    def set_data_df(self, dataframe):\n",
    "        # 本地dataframe\n",
    "        self.dataframe = dataframe  \n",
    "        # 把收益率加入到dataframe中 \n",
    "        self.dataframe = self.dataframe.assign(return_close= self.dataframe['close'].pct_change() * 100) \n",
    "        # 获取数据的开始时间\n",
    "        self.start_time = self.dataframe['e_date'].iloc[0] \n",
    "        # 获取数据的结束时间\n",
    "        self.end_time = self.dataframe['e_date'].iloc[-1]\n",
    "        \n",
    "    \n",
    "    # 方程用来得到相应步长的volatility\n",
    "    # 结果是顺序的dataframe包含每个以小时为单位的区间volatility\n",
    "    def get_volatility(self, time_step):\n",
    "        # 倒序向前60分钟 作为每个区间的endtime\n",
    "        time_range = pd.date_range(start=self.end_time , end=self.start_time, freq = timedelta(minutes = -60))\n",
    "        # 建立dataframe\n",
    "        hour_table = pd.DataFrame({'hour_e_time': time_range})\n",
    "        # 根据time_step确定每个区间长度\n",
    "        hour_table.insert(0, 'hour_s_time' , time_range + timedelta(minutes = - time_step))\n",
    "        volatility = []\n",
    "        # 在dataframe中取出相应区间的收益率并计算标准差得到volatility\n",
    "        for i in hour_table.index:\n",
    "            volatility.append(np.var(self.dataframe['return_close'][(self.dataframe.e_date > hour_table.hour_s_time[i]) & (self.dataframe.e_date <=  hour_table.hour_e_time[i])].dropna()))\n",
    "        # 加入dataframe\n",
    "        hour_table['volatility'] = volatility\n",
    "        # 换成顺序排列\n",
    "        return hour_table.dropna()[::-1].reset_index(drop=True)\n",
    "        \n",
    "\n",
    "    # 计算每个区间头尾的收益率的平方(Rt^2)\n",
    "    # Rt = (Pt - Pt-1)/Pt-1\n",
    "    # 这里t以timestep为单位\n",
    "    def get_return_square(self, time_step):\n",
    "        # 倒序向前60分钟 作为每个区间的endtime\n",
    "        time_range = pd.date_range(start=self.end_time , end=self.start_time, freq = timedelta(minutes = -60))\n",
    "        hour_table = pd.DataFrame({'hour_e_time': time_range})\n",
    "        # 根据time_step确定每个区间长度\n",
    "        hour_table.insert(0, 'hour_s_time' , time_range + timedelta(minutes = - time_step))\n",
    "        \n",
    "        return_square = []\n",
    "        # 在dataframe中取出相应区间的high和low的差值并计算标准差得到\n",
    "        for i in hour_table.index:\n",
    "            # 根据hour_table的starttime和endtime取出相应的dataframe\n",
    "            close = self.dataframe['close'][(self.dataframe.e_date > hour_table.hour_s_time[i]) & (self.dataframe.e_date <=  hour_table.hour_e_time[i])].dropna()\n",
    "            # Rt^2 = ((Pt - Pt-1)/Pt-1)^2\n",
    "            return_square.append(((close.values[0] - close.values[-1] )/ close.values[0])**2)\n",
    "            #return_square.append((np.log(close.values[0]/close.values[-1]))**2)\n",
    "\n",
    "        # 加入dataframe\n",
    "        hour_table['return_square'] = return_square\n",
    "        # 换成顺序排列\n",
    "        return hour_table.dropna()[::-1].reset_index(drop=True)\n",
    "\n",
    "    # 得到模型\n",
    "    # order: 每个变量的阶数\n",
    "    # order[0]: highlow_difference\n",
    "    # order[1]: highlow\n",
    "    # order[2]: volume_sum\n",
    "    # order[3]: return_square\n",
    "    # order[4]: volatility\n",
    "    # order[5]: zscore\n",
    "    # timestep: 每个变量的时间步长 这里timestep[5]是一个list 第一个是zscore的时间步长 第二个是zscore的period\n",
    "    # ma: moving average的阶数\n",
    "    # 模型是volatility = a0 + b(n)*highlow_difference(t-n) + c(n)*highlow(t-n) + d(n)*volume_sum(t-n) + e(n)*return_square(t-n) + f(n)*volatility(t-n) + g(n)*zscore(t-n) + h(n)*error(t-n) + error\n",
    "    def GARCH(self, order = [1,1], timestep = [60, 60]):\n",
    "        # 倒序向前60分钟 作为每个区间的endtime\n",
    "        time_range = pd.date_range(start=self.end_time , end=self.start_time, freq = timedelta(minutes = -60))\n",
    "        # 建立dataframe\n",
    "        self.data_laundry = pd.DataFrame({'hour_e_time': time_range})\n",
    "        # 根据time_step确定每个区间长度\n",
    "        self.data_laundry.insert(0, 'hour_s_time' , time_range + timedelta(minutes = - 60))\n",
    "        # 换成顺序排列\n",
    "        self.data_laundry = self.data_laundry.dropna()[::-1].reset_index(drop=True)\n",
    "        \n",
    "        # 得到volatility\n",
    "        dataframe_volatility_real = self.get_volatility(60).drop(columns = ['hour_s_time'])\n",
    "        \n",
    "        # 把真实的volatility加入到dataframe中\n",
    "        self.data_laundry = self.data_laundry.merge(dataframe_volatility_real, on = 'hour_e_time', how = 'inner')\n",
    "\n",
    "        if order[0] >0:\n",
    "            # 得到每个时段的return_square\n",
    "            dataframe_return_square = self.get_return_square(timestep[0]).drop(columns = ['hour_s_time'])\n",
    "            for i in range(order[0]):\n",
    "                # shift i+1 个单位\n",
    "                # 以此得到t-1, t-2, t-3。。。的return_square\n",
    "                dataframe_return_square['return_square_t' + str(i)] = dataframe_return_square['return_square'].shift(i+1)\n",
    "            # 根据endtime合并 dataframe    \n",
    "            self.data_laundry = self.data_laundry.merge(dataframe_return_square.drop(columns = ['return_square']), on = 'hour_e_time', how = 'inner')\n",
    "\n",
    "        if order[1] >0:\n",
    "            # 得到每个时段的volatility\n",
    "            dataframe_volatility = self.get_volatility(timestep[1]).drop(columns = ['hour_s_time'])\n",
    "            for i in range(order[1]):\n",
    "                # shift i+1 个单位\n",
    "                # 以此得到t-1, t-2, t-3。。。的volatility\n",
    "                dataframe_volatility['volatility_t' + str(i)] = dataframe_volatility['volatility'].shift(i+1)\n",
    "            # 根据endtime合并 dataframe    \n",
    "            self.data_laundry = self.data_laundry.merge(dataframe_volatility.drop(columns = ['volatility']), on = 'hour_e_time', how = 'inner')\n",
    "        \n",
    "        # 删除缺失值\n",
    "        self.data_laundry = self.data_laundry.dropna()\n",
    "       \n",
    "        # 真实的volatility 用来拟合\n",
    "        Y = self.data_laundry['volatility']\n",
    "        # 除了volatility的其他数据 用来作为自变量\n",
    "        X = self.data_laundry.drop(columns = ['hour_e_time', 'hour_s_time', 'volatility'])\n",
    "        \n",
    "        # 拟合模型\n",
    "        model = sm.OLS(Y, sm.add_constant(X)).fit()\n",
    "        \n",
    "        # 预测volatility\n",
    "        self.data_laundry['predict_volatility'] = model.predict(sm.add_constant(X))\n",
    "    \n",
    "        self.data_laundry['volatility'] = self.data_laundry['volatility']\n",
    "     \n",
    "        # 加入真实volatility和预测volatility\n",
    "        self.data_laundry['real'] = self.data_laundry['volatility']\n",
    "        self.data_laundry['predict'] = model.predict(sm.add_constant(X))\n",
    "        \n",
    "        # 删除不需要的数据\n",
    "        self.data_laundry = self.data_laundry.drop(columns = ['volatility', 'predict_volatility'])\n",
    "        return model"
   ]
  },
  {
   "cell_type": "code",
   "execution_count": 3,
   "metadata": {},
   "outputs": [],
   "source": [
    "symbol_ = 'btc/usdt.spot.binance'\n",
    "# set the start time\n",
    "s_time = datetime.datetime(2023, 1 ,1, 2, 0, 0)\n",
    "# set the end time\n",
    "e_time = datetime.datetime(2024, 1, 1, 1, 59, 0)"
   ]
  },
  {
   "cell_type": "code",
   "execution_count": 4,
   "metadata": {},
   "outputs": [],
   "source": [
    "data = train()\n",
    "data.set_data(s_time, e_time, symbols='btc/usdt.spot.binance', fields=None, bar_type=\"1m\", offset=None, engine_info=None)"
   ]
  },
  {
   "cell_type": "code",
   "execution_count": null,
   "metadata": {},
   "outputs": [],
   "source": [
    "model = data.GARCH(order =  [1,1], timestep = [60, 60])\n",
    "model.summary()"
   ]
  },
  {
   "cell_type": "code",
   "execution_count": null,
   "metadata": {},
   "outputs": [],
   "source": [
    "nf = data.data_laundry"
   ]
  },
  {
   "cell_type": "code",
   "execution_count": null,
   "metadata": {},
   "outputs": [],
   "source": [
    "nf['volatility_t0'] = np.sqrt(nf['volatility_t0'])\n",
    "nf['real'] = np.sqrt(nf['real'])\n",
    "nf['predict'] = np.sqrt(nf['predict'])\n",
    "nf"
   ]
  },
  {
   "cell_type": "code",
   "execution_count": 10,
   "metadata": {},
   "outputs": [],
   "source": [
    "# no local pacakge need to install\n",
    "from sklearn.metrics import r2_score"
   ]
  },
  {
   "cell_type": "code",
   "execution_count": 15,
   "metadata": {},
   "outputs": [
    {
     "data": {
      "text/html": [
       "<div>\n",
       "<style scoped>\n",
       "    .dataframe tbody tr th:only-of-type {\n",
       "        vertical-align: middle;\n",
       "    }\n",
       "\n",
       "    .dataframe tbody tr th {\n",
       "        vertical-align: top;\n",
       "    }\n",
       "\n",
       "    .dataframe thead th {\n",
       "        text-align: right;\n",
       "    }\n",
       "</style>\n",
       "<table border=\"1\" class=\"dataframe\">\n",
       "  <thead>\n",
       "    <tr style=\"text-align: right;\">\n",
       "      <th></th>\n",
       "      <th>hour_s_time</th>\n",
       "      <th>hour_e_time</th>\n",
       "      <th>return_square_t0</th>\n",
       "      <th>volatility_t0</th>\n",
       "      <th>real</th>\n",
       "      <th>predict</th>\n",
       "    </tr>\n",
       "  </thead>\n",
       "  <tbody>\n",
       "    <tr>\n",
       "      <th>1</th>\n",
       "      <td>2023-01-01 03:00:00</td>\n",
       "      <td>2023-01-01 04:00:00</td>\n",
       "      <td>8.589436e-08</td>\n",
       "      <td>0.008108</td>\n",
       "      <td>0.014589</td>\n",
       "      <td>0.051559</td>\n",
       "    </tr>\n",
       "    <tr>\n",
       "      <th>2</th>\n",
       "      <td>2023-01-01 04:00:00</td>\n",
       "      <td>2023-01-01 05:00:00</td>\n",
       "      <td>2.381336e-07</td>\n",
       "      <td>0.014589</td>\n",
       "      <td>0.008071</td>\n",
       "      <td>0.051758</td>\n",
       "    </tr>\n",
       "    <tr>\n",
       "      <th>3</th>\n",
       "      <td>2023-01-01 05:00:00</td>\n",
       "      <td>2023-01-01 06:00:00</td>\n",
       "      <td>9.440516e-09</td>\n",
       "      <td>0.008071</td>\n",
       "      <td>0.011327</td>\n",
       "      <td>0.051546</td>\n",
       "    </tr>\n",
       "    <tr>\n",
       "      <th>4</th>\n",
       "      <td>2023-01-01 06:00:00</td>\n",
       "      <td>2023-01-01 07:00:00</td>\n",
       "      <td>1.538296e-06</td>\n",
       "      <td>0.011327</td>\n",
       "      <td>0.057779</td>\n",
       "      <td>0.051860</td>\n",
       "    </tr>\n",
       "    <tr>\n",
       "      <th>5</th>\n",
       "      <td>2023-01-01 07:00:00</td>\n",
       "      <td>2023-01-01 08:00:00</td>\n",
       "      <td>2.235821e-06</td>\n",
       "      <td>0.057779</td>\n",
       "      <td>0.028060</td>\n",
       "      <td>0.055651</td>\n",
       "    </tr>\n",
       "    <tr>\n",
       "      <th>...</th>\n",
       "      <td>...</td>\n",
       "      <td>...</td>\n",
       "      <td>...</td>\n",
       "      <td>...</td>\n",
       "      <td>...</td>\n",
       "      <td>...</td>\n",
       "    </tr>\n",
       "    <tr>\n",
       "      <th>8755</th>\n",
       "      <td>2023-12-31 21:00:00</td>\n",
       "      <td>2023-12-31 22:00:00</td>\n",
       "      <td>4.467625e-06</td>\n",
       "      <td>0.048820</td>\n",
       "      <td>0.041415</td>\n",
       "      <td>0.054911</td>\n",
       "    </tr>\n",
       "    <tr>\n",
       "      <th>8756</th>\n",
       "      <td>2023-12-31 22:00:00</td>\n",
       "      <td>2023-12-31 23:00:00</td>\n",
       "      <td>4.605664e-08</td>\n",
       "      <td>0.041415</td>\n",
       "      <td>0.039279</td>\n",
       "      <td>0.053491</td>\n",
       "    </tr>\n",
       "    <tr>\n",
       "      <th>8757</th>\n",
       "      <td>2023-12-31 23:00:00</td>\n",
       "      <td>2024-01-01 00:00:00</td>\n",
       "      <td>3.183246e-06</td>\n",
       "      <td>0.039279</td>\n",
       "      <td>0.051141</td>\n",
       "      <td>0.053765</td>\n",
       "    </tr>\n",
       "    <tr>\n",
       "      <th>8758</th>\n",
       "      <td>2024-01-01 00:00:00</td>\n",
       "      <td>2024-01-01 01:00:00</td>\n",
       "      <td>1.787492e-06</td>\n",
       "      <td>0.051141</td>\n",
       "      <td>0.042526</td>\n",
       "      <td>0.054777</td>\n",
       "    </tr>\n",
       "    <tr>\n",
       "      <th>8759</th>\n",
       "      <td>2024-01-01 01:00:00</td>\n",
       "      <td>2024-01-01 02:00:00</td>\n",
       "      <td>6.419181e-06</td>\n",
       "      <td>0.042526</td>\n",
       "      <td>0.040322</td>\n",
       "      <td>0.054551</td>\n",
       "    </tr>\n",
       "  </tbody>\n",
       "</table>\n",
       "<p>8759 rows × 6 columns</p>\n",
       "</div>"
      ],
      "text/plain": [
       "             hour_s_time         hour_e_time  return_square_t0  volatility_t0  \\\n",
       "1    2023-01-01 03:00:00 2023-01-01 04:00:00      8.589436e-08       0.008108   \n",
       "2    2023-01-01 04:00:00 2023-01-01 05:00:00      2.381336e-07       0.014589   \n",
       "3    2023-01-01 05:00:00 2023-01-01 06:00:00      9.440516e-09       0.008071   \n",
       "4    2023-01-01 06:00:00 2023-01-01 07:00:00      1.538296e-06       0.011327   \n",
       "5    2023-01-01 07:00:00 2023-01-01 08:00:00      2.235821e-06       0.057779   \n",
       "...                  ...                 ...               ...            ...   \n",
       "8755 2023-12-31 21:00:00 2023-12-31 22:00:00      4.467625e-06       0.048820   \n",
       "8756 2023-12-31 22:00:00 2023-12-31 23:00:00      4.605664e-08       0.041415   \n",
       "8757 2023-12-31 23:00:00 2024-01-01 00:00:00      3.183246e-06       0.039279   \n",
       "8758 2024-01-01 00:00:00 2024-01-01 01:00:00      1.787492e-06       0.051141   \n",
       "8759 2024-01-01 01:00:00 2024-01-01 02:00:00      6.419181e-06       0.042526   \n",
       "\n",
       "          real   predict  \n",
       "1     0.014589  0.051559  \n",
       "2     0.008071  0.051758  \n",
       "3     0.011327  0.051546  \n",
       "4     0.057779  0.051860  \n",
       "5     0.028060  0.055651  \n",
       "...        ...       ...  \n",
       "8755  0.041415  0.054911  \n",
       "8756  0.039279  0.053491  \n",
       "8757  0.051141  0.053765  \n",
       "8758  0.042526  0.054777  \n",
       "8759  0.040322  0.054551  \n",
       "\n",
       "[8759 rows x 6 columns]"
      ]
     },
     "execution_count": 15,
     "metadata": {},
     "output_type": "execute_result"
    }
   ],
   "source": [
    "nf"
   ]
  },
  {
   "cell_type": "code",
   "execution_count": 34,
   "metadata": {},
   "outputs": [],
   "source": [
    "r2 = r2_score( nf['real'],  nf['predict'])"
   ]
  },
  {
   "cell_type": "code",
   "execution_count": 35,
   "metadata": {},
   "outputs": [
    {
     "data": {
      "text/plain": [
       "0.12291895659977303"
      ]
     },
     "execution_count": 35,
     "metadata": {},
     "output_type": "execute_result"
    }
   ],
   "source": [
    "r2"
   ]
  },
  {
   "cell_type": "code",
   "execution_count": 32,
   "metadata": {},
   "outputs": [
    {
     "data": {
      "text/plain": [
       "0.12281879889240743"
      ]
     },
     "execution_count": 32,
     "metadata": {},
     "output_type": "execute_result"
    }
   ],
   "source": [
    "1 - ( 1-r2 ) * ( len(nf['real']) - 1 ) / ( len(nf['real']) - 1 - 1 )"
   ]
  },
  {
   "cell_type": "code",
   "execution_count": 14,
   "metadata": {},
   "outputs": [
    {
     "data": {
      "text/plain": [
       "<matplotlib.legend.Legend at 0x2c6667790>"
      ]
     },
     "execution_count": 14,
     "metadata": {},
     "output_type": "execute_result"
    },
    {
     "data": {
      "image/png": "[encoded data removed]",
      "text/plain": [
       "<Figure size 640x480 with 1 Axes>"
      ]
     },
     "metadata": {},
     "output_type": "display_data"
    }
   ],
   "source": [
    "plt.plot(nf['hour_e_time'], nf['real'], label = 'real')\n",
    "plt.plot(nf['hour_e_time'], nf['predict'], label = 'predict')\n",
    "plt.legend()"
   ]
  },
  {
   "cell_type": "markdown",
   "metadata": {},
   "source": []
  }
 ],
 "metadata": {
  "kernelspec": {
   "display_name": "Python 3",
   "language": "python",
   "name": "python3"
  },
  "language_info": {
   "codemirror_mode": {
    "name": "ipython",
    "version": 3
   },
   "file_extension": ".py",
   "mimetype": "text/x-python",
   "name": "python",
   "nbconvert_exporter": "python",
   "pygments_lexer": "ipython3",
   "version": "3.6.8"
  }
 },
 "nbformat": 4,
 "nbformat_minor": 2
}
